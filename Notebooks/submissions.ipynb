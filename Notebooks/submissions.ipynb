{
 "cells": [
  {
   "cell_type": "markdown",
   "id": "a812b63c",
   "metadata": {},
   "source": [
    "# Notebook for submissions"
   ]
  },
  {
   "cell_type": "markdown",
   "id": "8b8f7c20",
   "metadata": {},
   "source": []
  },
  {
   "cell_type": "code",
   "execution_count": null,
   "id": "84a40915",
   "metadata": {
    "vscode": {
     "languageId": "plaintext"
    }
   },
   "outputs": [],
   "source": [
    "import pandas as pd\n",
    "import joblib\n",
    "from custom_pipeline import *"
   ]
  },
  {
   "cell_type": "markdown",
   "id": "b268508a",
   "metadata": {},
   "source": [
    "### Importation des donnees de test"
   ]
  },
  {
   "cell_type": "code",
   "execution_count": null,
   "id": "07b57410",
   "metadata": {
    "vscode": {
     "languageId": "plaintext"
    }
   },
   "outputs": [],
   "source": []
  },
  {
   "cell_type": "markdown",
   "id": "8942da24",
   "metadata": {},
   "source": [
    "### chargement du pipeline et du model"
   ]
  },
  {
   "cell_type": "code",
   "execution_count": null,
   "id": "347c2941",
   "metadata": {
    "vscode": {
     "languageId": "plaintext"
    }
   },
   "outputs": [],
   "source": [
    "# Charger le pipeline de prétraitement\n",
    "preprocessing_pipeline = joblib.load('preprocessing_pipeline.joblib')\n",
    "\n",
    "# Charger le modèle\n",
    "model = joblib.load('best_model.pkl')"
   ]
  },
  {
   "cell_type": "markdown",
   "id": "c38a499f",
   "metadata": {},
   "source": [
    "### Transformation des donnees"
   ]
  },
  {
   "cell_type": "code",
   "execution_count": null,
   "id": "40978631",
   "metadata": {
    "vscode": {
     "languageId": "plaintext"
    }
   },
   "outputs": [],
   "source": [
    "preprocessed_data = preprocessing_pipeline.transform(input_df)"
   ]
  },
  {
   "cell_type": "markdown",
   "id": "05ca4321",
   "metadata": {},
   "source": []
  }
 ],
 "metadata": {
  "language_info": {
   "name": "python"
  }
 },
 "nbformat": 4,
 "nbformat_minor": 5
}
